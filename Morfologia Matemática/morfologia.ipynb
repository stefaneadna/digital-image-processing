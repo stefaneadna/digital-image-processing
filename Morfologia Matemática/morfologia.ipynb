{
 "cells": [
  {
   "cell_type": "markdown",
   "metadata": {},
   "source": [
    "# Morfologia Matemática\n",
    "### Carregando as imagens"
   ]
  },
  {
   "cell_type": "code",
   "execution_count": 1,
   "metadata": {},
   "outputs": [],
   "source": [
    "import cv2\n",
    "import glob\n",
    "from pathlib import Path\n",
    "import os\n",
    "import matplotlib.pyplot as plt\n",
    "import numpy as np"
   ]
  },
  {
   "cell_type": "code",
   "execution_count": 2,
   "metadata": {},
   "outputs": [],
   "source": [
    "def open_img(image_path):\n",
    "    \"\"\"\n",
    "            Funcao responsavel por carregar imagens de um diretorio\n",
    "            Arguments:\n",
    "              image_path: Caminho do diretorio das imagens\n",
    "            Return:\n",
    "              dataset: Vetor, onde cada posição possui uma imagem carregada do diretório\n",
    "        \"\"\"\n",
    "    dataset = []\n",
    "    #carrega as imagens do diretorio\n",
    "    for i in glob.glob(image_path + '/*.png', recursive=True):\n",
    "        dataset.append(cv2.imread(i))\n",
    "    for j in glob.glob(image_path + '/*.jpg', recursive=True):\n",
    "        dataset.append(cv2.imread(j))\n",
    "    # for k in glob.glob(image_path + '/*.gif', recursive=True):\n",
    "    #     dataset.append(cv2.imread(k))\n",
    "\n",
    "    return dataset"
   ]
  },
  {
   "cell_type": "code",
   "execution_count": 3,
   "metadata": {},
   "outputs": [],
   "source": [
    "dataset_gray = open_img('../dataset/imgs_cinza/')\n",
    "dataset_binary = open_img('../dataset/imgs_pb/')"
   ]
  },
  {
   "cell_type": "markdown",
   "metadata": {},
   "source": [
    "## Elementos estruturantes"
   ]
  },
  {
   "cell_type": "code",
   "execution_count": 22,
   "metadata": {},
   "outputs": [],
   "source": [
    "image_gray = dataset_gray[0]\n",
    "image_binary = dataset_binary[0]"
   ]
  },
  {
   "cell_type": "code",
   "execution_count": 18,
   "metadata": {},
   "outputs": [],
   "source": [
    "quadrado_3x3 = cv2.getStructuringElement(cv2.MORPH_RECT,(3,3))\n",
    "quadrado_5x5 = cv2.getStructuringElement(cv2.MORPH_RECT,(5,5))\n",
    "quadrado_7x7 = cv2.getStructuringElement(cv2.MORPH_RECT,(7,7))\n",
    "\n",
    "elipse_5x5 = cv2.getStructuringElement(cv2.MORPH_ELLIPSE,(5,5))\n",
    "elipse_7x7 = cv2.getStructuringElement(cv2.MORPH_ELLIPSE,(7,7))\n",
    "elipse_11x11 = cv2.getStructuringElement(cv2.MORPH_ELLIPSE,(11,11))"
   ]
  },
  {
   "cell_type": "code",
   "execution_count": 28,
   "metadata": {},
   "outputs": [],
   "source": [
    "img_erosion = cv2.erode(image_gray, elipse_5x5, iterations=1)\n",
    "img_dilation = cv2.dilate(image_gray, elipse_5x5, iterations=1)"
   ]
  },
  {
   "cell_type": "code",
   "execution_count": null,
   "metadata": {},
   "outputs": [],
   "source": []
  }
 ],
 "metadata": {
  "kernelspec": {
   "display_name": "Python 3.8.13 ('pdi')",
   "language": "python",
   "name": "python3"
  },
  "language_info": {
   "codemirror_mode": {
    "name": "ipython",
    "version": 3
   },
   "file_extension": ".py",
   "mimetype": "text/x-python",
   "name": "python",
   "nbconvert_exporter": "python",
   "pygments_lexer": "ipython3",
   "version": "3.8.13"
  },
  "orig_nbformat": 4,
  "vscode": {
   "interpreter": {
    "hash": "4a58946dd5157bbc7eea7c287d3d79a93b753a12a02446af2e0bf47ebec0a370"
   }
  }
 },
 "nbformat": 4,
 "nbformat_minor": 2
}
