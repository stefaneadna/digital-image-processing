{
 "cells": [
  {
   "cell_type": "markdown",
   "metadata": {},
   "source": [
    "# Morfologia Matemática\n",
    "### Carregando as imagens"
   ]
  },
  {
   "cell_type": "code",
   "execution_count": 101,
   "metadata": {},
   "outputs": [],
   "source": [
    "import cv2\n",
    "import glob\n",
    "from pathlib import Path\n",
    "import os\n",
    "import matplotlib.pyplot as plt\n",
    "import numpy as np"
   ]
  },
  {
   "cell_type": "code",
   "execution_count": 102,
   "metadata": {},
   "outputs": [],
   "source": [
    "def open_img(image_path):\n",
    "    \"\"\"\n",
    "            Funcao responsavel por carregar imagens de um diretorio\n",
    "            Arguments:\n",
    "              image_path: Caminho do diretorio das imagens\n",
    "            Return:\n",
    "              dataset: Vetor, onde cada posição possui uma imagem carregada do diretório\n",
    "        \"\"\"\n",
    "    dataset = []\n",
    "    #carrega as imagens do diretorio\n",
    "    for i in glob.glob(image_path + '/*.png', recursive=True):\n",
    "        dataset.append(cv2.imread(i))\n",
    "    for j in glob.glob(image_path + '/*.jpg', recursive=True):\n",
    "        dataset.append(cv2.imread(j))\n",
    "    # for k in glob.glob(image_path + '/*.gif', recursive=True):\n",
    "    #     dataset.append(cv2.imread(k))\n",
    "\n",
    "    return dataset"
   ]
  },
  {
   "cell_type": "code",
   "execution_count": 103,
   "metadata": {},
   "outputs": [],
   "source": [
    "dataset_gray = open_img('../dataset/imgs_cinza/')\n",
    "dataset_binary = open_img('../dataset/imgs_pb/')"
   ]
  },
  {
   "cell_type": "markdown",
   "metadata": {},
   "source": [
    "## Elementos estruturantes"
   ]
  },
  {
   "cell_type": "code",
   "execution_count": 104,
   "metadata": {},
   "outputs": [],
   "source": [
    "image_gray = dataset_gray[0]\n",
    "image_binary = dataset_binary[0]"
   ]
  },
  {
   "cell_type": "code",
   "execution_count": 105,
   "metadata": {},
   "outputs": [],
   "source": [
    "quadrado_3x3 = cv2.getStructuringElement(cv2.MORPH_RECT,(3,3))\n",
    "quadrado_5x5 = cv2.getStructuringElement(cv2.MORPH_RECT,(5,5))\n",
    "quadrado_7x7 = cv2.getStructuringElement(cv2.MORPH_RECT,(7,7))\n",
    "\n",
    "elipse_5x5 = cv2.getStructuringElement(cv2.MORPH_ELLIPSE,(5,5))\n",
    "elipse_7x7 = cv2.getStructuringElement(cv2.MORPH_ELLIPSE,(7,7))\n",
    "elipse_11x11 = cv2.getStructuringElement(cv2.MORPH_ELLIPSE,(11,11))\n",
    "\n",
    "linha_3x3 = np.array([[0,1,0],\n",
    "                      [0,1,0],\n",
    "                      [0,1,0]\n",
    "            ],dtype=np.uint8)\n",
    "\n",
    "linha_5x5 = np.array([[0,0,1,0,0],\n",
    "                      [0,0,1,0,0],\n",
    "                      [0,0,1,0,0],\n",
    "                      [0,0,1,0,0],\n",
    "                      [0,0,1,0,0]\n",
    "            ],dtype=np.uint8)\n",
    "\n",
    "linha_7x7 = np.array([[0,0,0,1,0,0,0],\n",
    "                      [0,0,0,1,0,0,0],\n",
    "                      [0,0,0,1,0,0,0],\n",
    "                      [0,0,0,1,0,0,0],\n",
    "                      [0,0,0,1,0,0,0],\n",
    "                      [0,0,0,1,0,0,0],\n",
    "                      [0,0,0,1,0,0,0]\n",
    "            ],dtype=np.uint8)"
   ]
  },
  {
   "cell_type": "code",
   "execution_count": 118,
   "metadata": {},
   "outputs": [],
   "source": [
    "def operations(image, struturing_element,name_element):\n",
    "    img_erosion = cv2.erode(image, struturing_element, iterations=2)\n",
    "    img_dilation = cv2.dilate(image, struturing_element, iterations=2)\n",
    "    img_open = cv2.morphologyEx(image, cv2.MORPH_OPEN, struturing_element)\n",
    "    img_close = cv2.morphologyEx(image, cv2.MORPH_CLOSE, struturing_element)\n",
    "\n",
    "    #Visualização\n",
    "    image = cv2.copyMakeBorder(image,0,0,0,30,cv2.BORDER_CONSTANT,value=(255,255,255))\n",
    "    img_erosion = cv2.copyMakeBorder(img_erosion,0,0,0,30,cv2.BORDER_CONSTANT,value=(255,255,255))\n",
    "    img_dilation = cv2.copyMakeBorder(img_dilation,0,0,0,30,cv2.BORDER_CONSTANT,value=(255,255,255))\n",
    "    img_open = cv2.copyMakeBorder(img_open,0,0,0,30,cv2.BORDER_CONSTANT,value=(255,255,255))\n",
    "\n",
    "    plt.figure(figsize=(15,8))\n",
    "    plt.axis('off')\n",
    "    plt.title(f'Elemento estruturante: {name_element}\\n Na ordem: Imagem Original, Erosão, Dilatação, Abertura, Fechamento')\n",
    "    plt.imshow(np.concatenate((image, img_erosion, img_dilation, img_open, img_close), axis=1))"
   ]
  },
  {
   "cell_type": "code",
   "execution_count": 121,
   "metadata": {},
   "outputs": [],
   "source": [
    "def show_all_operations(image):\n",
    "    # Quadrado \n",
    "    operations(image, quadrado_3x3,'Quadrado 3x3')\n",
    "    operations(image, quadrado_5x5,'Quadrado 5x5')\n",
    "    operations(image, quadrado_7x7,'Quadrado 7x7')\n",
    "\n",
    "    #Elipse\n",
    "    operations(image, elipse_5x5,'Elipse 5x5')\n",
    "    operations(image, elipse_7x7,'Elipse 7x7')\n",
    "    operations(image, elipse_11x11,'Elipse 11x11')\n",
    "\n",
    "    #Linha\n",
    "    operations(image, linha_3x3,'Linha 3x3')\n",
    "    operations(image, linha_5x5,'Linha 5x5')\n",
    "    operations(image, linha_7x7,'Linha 7x7')"
   ]
  },
  {
   "cell_type": "code",
   "execution_count": null,
   "metadata": {},
   "outputs": [],
   "source": []
  }
 ],
 "metadata": {
  "kernelspec": {
   "display_name": "Python 3.8.13 ('pdi')",
   "language": "python",
   "name": "python3"
  },
  "language_info": {
   "codemirror_mode": {
    "name": "ipython",
    "version": 3
   },
   "file_extension": ".py",
   "mimetype": "text/x-python",
   "name": "python",
   "nbconvert_exporter": "python",
   "pygments_lexer": "ipython3",
   "version": "3.8.13"
  },
  "orig_nbformat": 4,
  "vscode": {
   "interpreter": {
    "hash": "4a58946dd5157bbc7eea7c287d3d79a93b753a12a02446af2e0bf47ebec0a370"
   }
  }
 },
 "nbformat": 4,
 "nbformat_minor": 2
}
